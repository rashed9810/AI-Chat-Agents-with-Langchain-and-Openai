{
 "cells": [
  {
   "cell_type": "markdown",
   "id": "7996cb50",
   "metadata": {},
   "source": [
    "# ChatBot AI Agent with LangChain and OpenAI"
   ]
  },
  {
   "cell_type": "markdown",
   "id": "41cb1027",
   "metadata": {},
   "source": [
    "### Install"
   ]
  },
  {
   "cell_type": "code",
   "execution_count": 15,
   "id": "c08333e4",
   "metadata": {},
   "outputs": [],
   "source": [
    "# !python3 -m pip install openai # from terminal or jupyter notebook\n",
    "# !python3 -m pip install langchain --user"
   ]
  },
  {
   "cell_type": "markdown",
   "id": "f58f5c1d",
   "metadata": {},
   "source": [
    "### Data Load"
   ]
  },
  {
   "cell_type": "code",
   "execution_count": 2,
   "id": "86ad2e93",
   "metadata": {},
   "outputs": [
    {
     "name": "stderr",
     "output_type": "stream",
     "text": [
      "Found cached dataset squad (/home/mohsin/.cache/huggingface/datasets/squad/plain_text/1.0.0/d6ec3ceb99ca480ce37cdd35555d6cb2511d223b9150cce08a837ef62ffea453)\n"
     ]
    }
   ],
   "source": [
    "# https://rajpurkar.github.io/SQuAD-explorer/\n",
    "\n",
    "from datasets import load_dataset \n",
    "\n",
    "data = load_dataset('squad', split='train')\n",
    "df = data.to_pandas()\n",
    "df.drop_duplicates(subset='context', keep='first', inplace=True)"
   ]
  },
  {
   "cell_type": "code",
   "execution_count": 35,
   "id": "6609861a",
   "metadata": {},
   "outputs": [],
   "source": [
    "# df = data.to_pandas()"
   ]
  },
  {
   "cell_type": "code",
   "execution_count": 9,
   "id": "4bb68f60",
   "metadata": {},
   "outputs": [
    {
     "data": {
      "text/plain": [
       "'Architecturally, the school has a Catholic character. Atop the Main Building\\'s gold dome is a golden statue of the Virgin Mary. Immediately in front of the Main Building and facing it, is a copper statue of Christ with arms upraised with the legend \"Venite Ad Me Omnes\". Next to the Main Building is the Basilica of the Sacred Heart. Immediately behind the basilica is the Grotto, a Marian place of prayer and reflection. It is a replica of the grotto at Lourdes, France where the Virgin Mary reputedly appeared to Saint Bernadette Soubirous in 1858. At the end of the main drive (and in a direct line that connects through 3 statues and the Gold Dome), is a simple, modern stone statue of Mary.'"
      ]
     },
     "execution_count": 9,
     "metadata": {},
     "output_type": "execute_result"
    }
   ],
   "source": [
    "df.iloc[0]['context']"
   ]
  },
  {
   "cell_type": "code",
   "execution_count": 10,
   "id": "f136912b",
   "metadata": {
    "scrolled": true
   },
   "outputs": [
    {
     "data": {
      "text/plain": [
       "'To whom did the Virgin Mary allegedly appear in 1858 in Lourdes France?'"
      ]
     },
     "execution_count": 10,
     "metadata": {},
     "output_type": "execute_result"
    }
   ],
   "source": [
    "df.iloc[0]['question']"
   ]
  },
  {
   "cell_type": "code",
   "execution_count": 13,
   "id": "17091a43",
   "metadata": {},
   "outputs": [
    {
     "data": {
      "text/plain": [
       "{'text': array(['Saint Bernadette Soubirous'], dtype=object),\n",
       " 'answer_start': array([515], dtype=int32)}"
      ]
     },
     "execution_count": 13,
     "metadata": {},
     "output_type": "execute_result"
    }
   ],
   "source": [
    "df.iloc[0]['answers']"
   ]
  },
  {
   "cell_type": "code",
   "execution_count": 31,
   "id": "f5dbd055",
   "metadata": {},
   "outputs": [
    {
     "data": {
      "text/plain": [
       "68708"
      ]
     },
     "execution_count": 31,
     "metadata": {},
     "output_type": "execute_result"
    }
   ],
   "source": [
    "# sum(df['context'].duplicated())"
   ]
  },
  {
   "cell_type": "code",
   "execution_count": 36,
   "id": "50b17ac7",
   "metadata": {},
   "outputs": [],
   "source": [
    "# df.drop_duplicates(subset='context', keep='first', inplace=True)"
   ]
  },
  {
   "cell_type": "code",
   "execution_count": 18,
   "id": "0aefd213",
   "metadata": {},
   "outputs": [
    {
     "data": {
      "text/plain": [
       "(18891, 5)"
      ]
     },
     "execution_count": 18,
     "metadata": {},
     "output_type": "execute_result"
    }
   ],
   "source": [
    "df.shape"
   ]
  },
  {
   "cell_type": "code",
   "execution_count": 19,
   "id": "232b413a",
   "metadata": {},
   "outputs": [
    {
     "data": {
      "text/html": [
       "<div>\n",
       "<style scoped>\n",
       "    .dataframe tbody tr th:only-of-type {\n",
       "        vertical-align: middle;\n",
       "    }\n",
       "\n",
       "    .dataframe tbody tr th {\n",
       "        vertical-align: top;\n",
       "    }\n",
       "\n",
       "    .dataframe thead th {\n",
       "        text-align: right;\n",
       "    }\n",
       "</style>\n",
       "<table border=\"1\" class=\"dataframe\">\n",
       "  <thead>\n",
       "    <tr style=\"text-align: right;\">\n",
       "      <th></th>\n",
       "      <th>id</th>\n",
       "      <th>title</th>\n",
       "      <th>context</th>\n",
       "      <th>question</th>\n",
       "      <th>answers</th>\n",
       "    </tr>\n",
       "  </thead>\n",
       "  <tbody>\n",
       "    <tr>\n",
       "      <th>0</th>\n",
       "      <td>5733be284776f41900661182</td>\n",
       "      <td>University_of_Notre_Dame</td>\n",
       "      <td>Architecturally, the school has a Catholic cha...</td>\n",
       "      <td>To whom did the Virgin Mary allegedly appear i...</td>\n",
       "      <td>{'text': ['Saint Bernadette Soubirous'], 'answ...</td>\n",
       "    </tr>\n",
       "    <tr>\n",
       "      <th>5</th>\n",
       "      <td>5733bf84d058e614000b61be</td>\n",
       "      <td>University_of_Notre_Dame</td>\n",
       "      <td>As at most other universities, Notre Dame's st...</td>\n",
       "      <td>When did the Scholastic Magazine of Notre dame...</td>\n",
       "      <td>{'text': ['September 1876'], 'answer_start': [...</td>\n",
       "    </tr>\n",
       "  </tbody>\n",
       "</table>\n",
       "</div>"
      ],
      "text/plain": [
       "                         id                     title  \\\n",
       "0  5733be284776f41900661182  University_of_Notre_Dame   \n",
       "5  5733bf84d058e614000b61be  University_of_Notre_Dame   \n",
       "\n",
       "                                             context  \\\n",
       "0  Architecturally, the school has a Catholic cha...   \n",
       "5  As at most other universities, Notre Dame's st...   \n",
       "\n",
       "                                            question  \\\n",
       "0  To whom did the Virgin Mary allegedly appear i...   \n",
       "5  When did the Scholastic Magazine of Notre dame...   \n",
       "\n",
       "                                             answers  \n",
       "0  {'text': ['Saint Bernadette Soubirous'], 'answ...  \n",
       "5  {'text': ['September 1876'], 'answer_start': [...  "
      ]
     },
     "execution_count": 19,
     "metadata": {},
     "output_type": "execute_result"
    }
   ],
   "source": [
    "df.head(2)"
   ]
  },
  {
   "cell_type": "markdown",
   "id": "d24be300",
   "metadata": {},
   "source": [
    "### Embedding API"
   ]
  },
  {
   "cell_type": "code",
   "execution_count": 3,
   "id": "c0e81eae",
   "metadata": {},
   "outputs": [],
   "source": [
    "# Open AI\n",
    "\n",
    "# OPENAI_API_KEY= \"\"\n",
    "\n",
    "import openai"
   ]
  },
  {
   "cell_type": "code",
   "execution_count": 4,
   "id": "bb69c1d1",
   "metadata": {},
   "outputs": [],
   "source": [
    "openai.api_key = OPENAI_API_KEY\n",
    "MODEL  = \"text-embedding-ada-002\"\n",
    "\n",
    "res = openai.Embedding.create(input = \"I love openai\", engine = MODEL)"
   ]
  },
  {
   "cell_type": "code",
   "execution_count": 49,
   "id": "ef7554ee",
   "metadata": {},
   "outputs": [],
   "source": [
    "emb_vector  = res[\"data\"][0][\"embedding\"] # parsing embedded vectors"
   ]
  },
  {
   "cell_type": "code",
   "execution_count": 5,
   "id": "c171b404",
   "metadata": {},
   "outputs": [],
   "source": [
    "def get_embedding(text, model):\n",
    "    text = text.replace(\"\\n\", \" \")\n",
    "    res = openai.Embedding.create(input = text, engine = model)\n",
    "    return res[\"data\"][0][\"embedding\"]"
   ]
  },
  {
   "cell_type": "code",
   "execution_count": 6,
   "id": "ff3419b8",
   "metadata": {},
   "outputs": [],
   "source": [
    "vec = get_embedding(\"I am trying a new text \\n And see what happens\", MODEL)"
   ]
  },
  {
   "cell_type": "code",
   "execution_count": 7,
   "id": "c889e5a6",
   "metadata": {},
   "outputs": [
    {
     "data": {
      "text/plain": [
       "1536"
      ]
     },
     "execution_count": 7,
     "metadata": {},
     "output_type": "execute_result"
    }
   ],
   "source": [
    "len(vec) # "
   ]
  },
  {
   "cell_type": "markdown",
   "id": "d19a1a70",
   "metadata": {},
   "source": [
    "### Vector DB Setup"
   ]
  },
  {
   "cell_type": "code",
   "execution_count": 8,
   "id": "73a5a90e",
   "metadata": {},
   "outputs": [],
   "source": [
    "# db of 1536 dimension\n",
    "\n",
    "# API_KEY = \"your key\"\n",
    "# ENV = \"your env\"\n",
    "\n",
    "import pinecone\n",
    "\n",
    "pinecone.init(api_key = API_KEY, environment = ENV)\n",
    "# pinecone.create_index(\"ai-agent\", dimension=1536, metric='dotproduct')\n",
    "index = pinecone.Index(\"ai-agent\")"
   ]
  },
  {
   "cell_type": "code",
   "execution_count": null,
   "id": "385fccb2",
   "metadata": {},
   "outputs": [],
   "source": [
    "# index.delete(delete_all=True)\n"
   ]
  },
  {
   "cell_type": "markdown",
   "id": "5cea5732",
   "metadata": {},
   "source": [
    "### Indexing"
   ]
  },
  {
   "cell_type": "code",
   "execution_count": 92,
   "id": "212b20ca",
   "metadata": {},
   "outputs": [],
   "source": [
    "df_sample = df.sample(10000, random_state=45)\n",
    "batch_size = 20 # free tier limit 20 RPM"
   ]
  },
  {
   "cell_type": "code",
   "execution_count": null,
   "id": "1f68b7b6",
   "metadata": {},
   "outputs": [],
   "source": [
    "# embedding function from OpenAI\n",
    "from langchain.embeddings.openai import OpenAIEmbeddings\n",
    "\n",
    "model_name = \"text-embedding-ada-002\"\n",
    "\n",
    "embed = OpenAIEmbeddings(\n",
    "    model = model_name,\n",
    "    openai_api_key= OPENAI_API_KEY)"
   ]
  },
  {
   "cell_type": "code",
   "execution_count": 93,
   "id": "487040ed",
   "metadata": {},
   "outputs": [],
   "source": [
    "from tqdm.auto import tqdm\n",
    "import time"
   ]
  },
  {
   "cell_type": "code",
   "execution_count": 94,
   "id": "02c73fa0",
   "metadata": {},
   "outputs": [
    {
     "data": {
      "application/vnd.jupyter.widget-view+json": {
       "model_id": "371f58ee091249b9879bc34914cd68ff",
       "version_major": 2,
       "version_minor": 0
      },
      "text/plain": [
       "  0%|          | 0/500 [00:00<?, ?it/s]"
      ]
     },
     "metadata": {},
     "output_type": "display_data"
    }
   ],
   "source": [
    "%%time\n",
    "for i in tqdm(range(0, len(df_sample), batch_size)):\n",
    "    i_end = min(i+batch_size, len(df_sample))\n",
    "#     print(i, i_end)\n",
    "    batch = df_sample.iloc[i:i_end]\n",
    "    meta_data = [{\"titile\" : row['title'], \n",
    "              \"context\": row['context']} \n",
    "             for i, row in batch.iterrows()]\n",
    "    \n",
    "    # embedding  \n",
    "    docs = batch['context'].tolist()  # pd.Series to python list\n",
    "#     emb_vectors = [get_embedding(doc, MODEL) for doc in docs] \n",
    "    emb_vectors = embed.embed_documents(docs) # list of list\n",
    "\n",
    "    ids = batch['id'].tolist()\n",
    "    \n",
    "    # upsert\n",
    "    to_upsert = zip(ids, emb_vectors, meta_data)    \n",
    "    index.upsert(vectors=to_upsert)\n",
    "    \n",
    "    time.sleep(20) # 8s for 50 data points\n",
    "\n",
    "    \n"
   ]
  },
  {
   "cell_type": "code",
   "execution_count": 88,
   "id": "0ced1369",
   "metadata": {},
   "outputs": [
    {
     "data": {
      "text/plain": [
       "5.2475"
      ]
     },
     "execution_count": 88,
     "metadata": {},
     "output_type": "execute_result"
    }
   ],
   "source": [
    "df.shape[0]/3600 # 5 hrs to load , free tier will take 15hrs\n",
    "# 14000 records/dollar"
   ]
  },
  {
   "cell_type": "markdown",
   "id": "50a4c889",
   "metadata": {},
   "source": [
    "### Using"
   ]
  },
  {
   "cell_type": "code",
   "execution_count": 11,
   "id": "871f8cda",
   "metadata": {},
   "outputs": [],
   "source": [
    "def get_embedding2(text):\n",
    "    text = text.replace(\"\\n\", \" \")\n",
    "    res = openai.Embedding.create(input = text, \n",
    "                                  engine = \"text-embedding-ada-002\")\n",
    "    return res[\"data\"][0][\"embedding\"]"
   ]
  },
  {
   "cell_type": "code",
   "execution_count": 46,
   "id": "428a92ec",
   "metadata": {},
   "outputs": [],
   "source": [
    "# Langchain vector store defination\n",
    "from langchain.vectorstores import Pinecone\n",
    "\n",
    "# vectorstore = Pinecone(index, get_embedding2, \"text\")\n",
    "vectorstore = Pinecone(index, embed.embed_query, \"text\")"
   ]
  },
  {
   "cell_type": "code",
   "execution_count": 47,
   "id": "e8dc50bd",
   "metadata": {},
   "outputs": [],
   "source": [
    "query = \"When was university of notredame establish\""
   ]
  },
  {
   "cell_type": "code",
   "execution_count": 33,
   "id": "6cb84739",
   "metadata": {},
   "outputs": [],
   "source": [
    "openai.api_key = OPENAI_API_KEY"
   ]
  },
  {
   "cell_type": "code",
   "execution_count": 48,
   "id": "2b671ce1",
   "metadata": {},
   "outputs": [
    {
     "data": {
      "text/plain": [
       "[Document(page_content=\"In 1919 Father James Burns became president of Notre Dame, and in three years he produced an academic revolution that brought the school up to national standards by adopting the elective system and moving away from the university's traditional scholastic and classical emphasis. By contrast, the Jesuit colleges, bastions of academic conservatism, were reluctant to move to a system of electives. Their graduates were shut out of Harvard Law School for that reason. Notre Dame continued to grow over the years, adding more colleges, programs, and sports teams. By 1921, with the addition of the College of Commerce, Notre Dame had grown from a small college to a university with five colleges and a professional law school. The university continued to expand and add new residence halls and buildings with each subsequent president.\", metadata={'title': 'University_of_Notre_Dame'}),\n",
       " Document(page_content=\"After the Fall of Rome, the Catholic Church became the sole preserver of literate scholarship in Western Europe. The church established cathedral schools in the Early Middle Ages as centers of advanced education. Some of these establishments ultimately evolved into medieval universities and forebears of many of Europe's modern universities. During the High Middle Ages, Chartres Cathedral operated the famous and influential Chartres Cathedral School. The medieval universities of Western Christendom were well-integrated across all of Western Europe, encouraged freedom of inquiry, and produced a great variety of fine scholars and natural philosophers, including Thomas Aquinas of the University of Naples, Robert Grosseteste of the University of Oxford, an early expositor of a systematic method of scientific experimentation, and Saint Albert the Great, a pioneer of biological field research. Founded in 1088, the University of Bologne is considered the first, and the oldest continually operating university.\", metadata={'title': 'Education'}),\n",
       " Document(page_content='Since 2005, Notre Dame has been led by John I. Jenkins, C.S.C., the 17th president of the university. Jenkins took over the position from Malloy on July 1, 2005. In his inaugural address, Jenkins described his goals of making the university a leader in research that recognizes ethics and building the connection between faith and studies. During his tenure, Notre Dame has increased its endowment, enlarged its student body, and undergone many construction projects on campus, including Compton Family Ice Arena, a new architecture hall, additional residence halls, and the Campus Crossroads, a $400m enhancement and expansion of Notre Dame Stadium.', metadata={'title': 'University_of_Notre_Dame'})]"
      ]
     },
     "execution_count": 48,
     "metadata": {},
     "output_type": "execute_result"
    }
   ],
   "source": [
    "# pure semantic, non generative, non agent based\n",
    "vectorstore.similarity_search(query, k=3)"
   ]
  },
  {
   "cell_type": "code",
   "execution_count": 44,
   "id": "3d66dfb0",
   "metadata": {},
   "outputs": [],
   "source": [
    "# embed.embed_query(\"embedding single document\")\n",
    "\n",
    "# embed.embed_documents([\"first doc\", \"second doc\"])"
   ]
  },
  {
   "cell_type": "markdown",
   "id": "01492f23",
   "metadata": {},
   "source": [
    "### Define QA Agent"
   ]
  },
  {
   "cell_type": "code",
   "execution_count": 55,
   "id": "96085575",
   "metadata": {},
   "outputs": [],
   "source": [
    "from langchain.chat_models import ChatOpenAI\n",
    "from langchain.chains.conversation.memory \\\n",
    "import ConversationBufferWindowMemory\n",
    "\n",
    "from langchain.chains import RetrievalQA\n",
    "\n",
    "# OpenAI LLM\n",
    "llm = ChatOpenAI(openai_api_key = OPENAI_API_KEY,\n",
    "                model_name = 'gpt-3.5-turbo',\n",
    "                temperature = 0.0)\n",
    "\n",
    "# conversational memory\n",
    "conv_mem = ConversationBufferWindowMemory(\n",
    "    memory_key = 'chat_history',\n",
    "    k = 5,\n",
    "    return_messages =True)\n",
    "\n",
    "# retrieval qa\n",
    "qa = RetrievalQA.from_chain_type(\n",
    "    llm = llm,\n",
    "    chain_type = \"stuff\",\n",
    "    retriever = vectorstore.as_retriever())\n",
    "\n",
    "\n",
    "# https://python.langchain.com/en/latest/modules/chains/index_examples/question_answering.html\n",
    "# https://docs.langchain.com/docs/components/chains/index_related_chains"
   ]
  },
  {
   "cell_type": "markdown",
   "id": "ba438491",
   "metadata": {},
   "source": [
    "### Invoking Retrieval QA"
   ]
  },
  {
   "cell_type": "code",
   "execution_count": 57,
   "id": "08f8c03c",
   "metadata": {
    "scrolled": true
   },
   "outputs": [
    {
     "data": {
      "text/plain": [
       "'The University of Notre Dame was established in 1842.'"
      ]
     },
     "execution_count": 57,
     "metadata": {},
     "output_type": "execute_result"
    }
   ],
   "source": [
    "query = \"When was university of notredame establish\"\n",
    "qa.run(query) # retrieving the info"
   ]
  },
  {
   "cell_type": "code",
   "execution_count": 58,
   "id": "9b76a216",
   "metadata": {},
   "outputs": [
    {
     "data": {
      "text/plain": [
       "'The University of Notre Dame was established by Father Edward Sorin, a French priest of the Congregation of Holy Cross, in 1842.'"
      ]
     },
     "execution_count": 58,
     "metadata": {},
     "output_type": "execute_result"
    }
   ],
   "source": [
    "query = \"who established the university of notredame\"\n",
    "qa.run(query)"
   ]
  },
  {
   "cell_type": "code",
   "execution_count": 59,
   "id": "cd624c0c",
   "metadata": {},
   "outputs": [],
   "source": [
    "from langchain.agents import Tool\n",
    "\n",
    "tools = [\n",
    "    Tool(\n",
    "    name = 'Knowledge Base',\n",
    "    func = qa.run,\n",
    "    description = ('use this when answering based on knwowledge')\n",
    "    )\n",
    "]"
   ]
  },
  {
   "cell_type": "code",
   "execution_count": 70,
   "id": "d0c92f10",
   "metadata": {},
   "outputs": [],
   "source": [
    "from langchain.agents import initialize_agent\n",
    "from langchain.agents import AgentType\n",
    "\n",
    "agent = initialize_agent(\n",
    "    agent=AgentType.CHAT_CONVERSATIONAL_REACT_DESCRIPTION,\n",
    "    tools=tools,\n",
    "    llm=llm,\n",
    "    verbose=True,\n",
    "    max_iterations=3,\n",
    "    early_stopping_method='generate',\n",
    "    memory=conv_mem \n",
    ")"
   ]
  },
  {
   "cell_type": "code",
   "execution_count": 71,
   "id": "65eacac5",
   "metadata": {},
   "outputs": [
    {
     "name": "stdout",
     "output_type": "stream",
     "text": [
      "\n",
      "\n",
      "\u001b[1m> Entering new AgentExecutor chain...\u001b[0m\n",
      "\u001b[32;1m\u001b[1;3m{\n",
      "    \"action\": \"Knowledge Base\",\n",
      "    \"action_input\": \"University of Notre Dame establishment date\"\n",
      "}\u001b[0m\n",
      "Observation: \u001b[36;1m\u001b[1;3mThe University of Notre Dame was founded on November 26, 1842.\u001b[0m\n",
      "Thought:\u001b[32;1m\u001b[1;3m{\n",
      "    \"action\": \"Final Answer\",\n",
      "    \"action_input\": \"The University of Notre Dame was founded on November 26, 1842.\"\n",
      "}\u001b[0m\n",
      "\n",
      "\u001b[1m> Finished chain.\u001b[0m\n"
     ]
    },
    {
     "data": {
      "text/plain": [
       "{'input': 'when was university of notredame established',\n",
       " 'chat_history': [HumanMessage(content='what is marian place', additional_kwargs={}, example=False),\n",
       "  AIMessage(content=\"The Challenger Deep is a small slot-shaped valley in the floor of the Mariana Trench, which is the deepest part of the world's oceans. It reaches a maximum-known depth of 10,984 meters (36,037 feet) (± 25 meters [82 feet]) at the Challenger Deep.\", additional_kwargs={}, example=False)],\n",
       " 'output': 'The University of Notre Dame was founded on November 26, 1842.'}"
      ]
     },
     "execution_count": 71,
     "metadata": {},
     "output_type": "execute_result"
    }
   ],
   "source": [
    "agent(\"when was university of notredame established\") # chat gpt kind"
   ]
  },
  {
   "cell_type": "code",
   "execution_count": 72,
   "id": "e8cb7fe4",
   "metadata": {},
   "outputs": [
    {
     "name": "stdout",
     "output_type": "stream",
     "text": [
      "\n",
      "\n",
      "\u001b[1m> Entering new AgentExecutor chain...\u001b[0m\n",
      "\u001b[32;1m\u001b[1;3m{\n",
      "    \"action\": \"Final Answer\",\n",
      "    \"action_input\": \"The University of Notre Dame was founded by Father Edward Sorin, a French priest of the Congregation of Holy Cross, in 1842.\"\n",
      "}\u001b[0m\n",
      "\n",
      "\u001b[1m> Finished chain.\u001b[0m\n"
     ]
    },
    {
     "data": {
      "text/plain": [
       "{'input': 'who founded the university',\n",
       " 'chat_history': [HumanMessage(content='what is marian place', additional_kwargs={}, example=False),\n",
       "  AIMessage(content=\"The Challenger Deep is a small slot-shaped valley in the floor of the Mariana Trench, which is the deepest part of the world's oceans. It reaches a maximum-known depth of 10,984 meters (36,037 feet) (± 25 meters [82 feet]) at the Challenger Deep.\", additional_kwargs={}, example=False),\n",
       "  HumanMessage(content='when was university of notredame established', additional_kwargs={}, example=False),\n",
       "  AIMessage(content='The University of Notre Dame was founded on November 26, 1842.', additional_kwargs={}, example=False)],\n",
       " 'output': 'The University of Notre Dame was founded by Father Edward Sorin, a French priest of the Congregation of Holy Cross, in 1842.'}"
      ]
     },
     "execution_count": 72,
     "metadata": {},
     "output_type": "execute_result"
    }
   ],
   "source": [
    "agent(\"who founded the university\")"
   ]
  },
  {
   "cell_type": "code",
   "execution_count": 73,
   "id": "a3d77137",
   "metadata": {},
   "outputs": [
    {
     "name": "stdout",
     "output_type": "stream",
     "text": [
      "\n",
      "\n",
      "\u001b[1m> Entering new AgentExecutor chain...\u001b[0m\n",
      "\u001b[32;1m\u001b[1;3m{\n",
      "    \"action\": \"Final Answer\",\n",
      "    \"action_input\": \"26\"\n",
      "}\u001b[0m\n",
      "\n",
      "\u001b[1m> Finished chain.\u001b[0m\n"
     ]
    },
    {
     "data": {
      "text/plain": [
       "{'input': '20+6',\n",
       " 'chat_history': [HumanMessage(content='what is marian place', additional_kwargs={}, example=False),\n",
       "  AIMessage(content=\"The Challenger Deep is a small slot-shaped valley in the floor of the Mariana Trench, which is the deepest part of the world's oceans. It reaches a maximum-known depth of 10,984 meters (36,037 feet) (± 25 meters [82 feet]) at the Challenger Deep.\", additional_kwargs={}, example=False),\n",
       "  HumanMessage(content='when was university of notredame established', additional_kwargs={}, example=False),\n",
       "  AIMessage(content='The University of Notre Dame was founded on November 26, 1842.', additional_kwargs={}, example=False),\n",
       "  HumanMessage(content='who founded the university', additional_kwargs={}, example=False),\n",
       "  AIMessage(content='The University of Notre Dame was founded by Father Edward Sorin, a French priest of the Congregation of Holy Cross, in 1842.', additional_kwargs={}, example=False)],\n",
       " 'output': '26'}"
      ]
     },
     "execution_count": 73,
     "metadata": {},
     "output_type": "execute_result"
    }
   ],
   "source": [
    "agent(\"20+6\")"
   ]
  },
  {
   "cell_type": "code",
   "execution_count": null,
   "id": "df251537",
   "metadata": {},
   "outputs": [],
   "source": []
  },
  {
   "cell_type": "markdown",
   "id": "a3aa0f50",
   "metadata": {},
   "source": [
    "#### Note on the Rate Limit\n",
    "\n",
    "Rate Limit: https://github.com/openai/openai-cookbook/blob/main/examples/How_to_handle_rate_limits.ipynb\n",
    "\n",
    "Retry Options: https://github.com/openai/openai-cookbook/blob/main/examples/How_to_handle_rate_limits.ipynb"
   ]
  },
  {
   "cell_type": "markdown",
   "id": "a6eb8a0a",
   "metadata": {},
   "source": [
    "### Further Reading\n",
    "\n",
    "https://arxiv.org/abs/2005.11401 \n",
    "\n",
    "https://platform.openai.com/docs/models/gpt-3-5"
   ]
  },
  {
   "cell_type": "code",
   "execution_count": null,
   "id": "b7da8e37",
   "metadata": {},
   "outputs": [],
   "source": []
  }
 ],
 "metadata": {
  "kernelspec": {
   "display_name": "pinecone_env",
   "language": "python",
   "name": "pinecone_env"
  },
  "language_info": {
   "codemirror_mode": {
    "name": "ipython",
    "version": 3
   },
   "file_extension": ".py",
   "mimetype": "text/x-python",
   "name": "python",
   "nbconvert_exporter": "python",
   "pygments_lexer": "ipython3",
   "version": "3.10.6"
  }
 },
 "nbformat": 4,
 "nbformat_minor": 5
}
